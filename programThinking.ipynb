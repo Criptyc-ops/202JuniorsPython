{
 "cells": [
  {
   "cell_type": "markdown",
   "id": "48219819",
   "metadata": {},
   "source": [
    "# Programming Thinking"
   ]
  },
  {
   "cell_type": "markdown",
   "id": "f1909a90",
   "metadata": {},
   "source": [
    "## 1.1 Arithmetic operators\n",
    "\n",
    "<font color='red'> Arithmetic operators</font> - symbols that represent an arithmatic operation. + - / * ** //"
   ]
  },
  {
   "cell_type": "code",
   "execution_count": 1,
   "id": "d8c2dc74",
   "metadata": {},
   "outputs": [
    {
     "data": {
      "text/plain": [
       "42"
      ]
     },
     "execution_count": 1,
     "metadata": {},
     "output_type": "execute_result"
    }
   ],
   "source": [
    "30 + 12"
   ]
  },
  {
   "cell_type": "code",
   "execution_count": 2,
   "id": "910c08f6",
   "metadata": {},
   "outputs": [
    {
     "data": {
      "text/plain": [
       "42"
      ]
     },
     "execution_count": 2,
     "metadata": {},
     "output_type": "execute_result"
    }
   ],
   "source": [
    "43 - 1"
   ]
  },
  {
   "cell_type": "code",
   "execution_count": 3,
   "id": "02ac9adb",
   "metadata": {},
   "outputs": [
    {
     "data": {
      "text/plain": [
       "42"
      ]
     },
     "execution_count": 3,
     "metadata": {},
     "output_type": "execute_result"
    }
   ],
   "source": [
    "6 * 7"
   ]
  },
  {
   "cell_type": "code",
   "execution_count": 4,
   "id": "d7e5fb33",
   "metadata": {},
   "outputs": [
    {
     "data": {
      "text/plain": [
       "42.0"
      ]
     },
     "execution_count": 4,
     "metadata": {},
     "output_type": "execute_result"
    }
   ],
   "source": [
    "84 / 2"
   ]
  },
  {
   "cell_type": "markdown",
   "id": "2795b739",
   "metadata": {},
   "source": [
    "<b>interger</b> - represents numbers with no fractional or decimal part\n",
    "<br>\n",
    "<b>floating-point numbers</b> represents intergers and numbers with a decimal point"
   ]
  },
  {
   "cell_type": "code",
   "execution_count": 5,
   "id": "e6816b18",
   "metadata": {},
   "outputs": [
    {
     "data": {
      "text/plain": [
       "42"
      ]
     },
     "execution_count": 5,
     "metadata": {},
     "output_type": "execute_result"
    }
   ],
   "source": [
    "84 // 2 # Floor division (interger division)- it divides and only gives you the numbers back before the decimal"
   ]
  },
  {
   "cell_type": "code",
   "execution_count": 6,
   "id": "866da38a",
   "metadata": {},
   "outputs": [
    {
     "data": {
      "text/plain": [
       "43"
      ]
     },
     "execution_count": 6,
     "metadata": {},
     "output_type": "execute_result"
    }
   ],
   "source": [
    "86//2"
   ]
  },
  {
   "cell_type": "code",
   "execution_count": 7,
   "id": "7da27432",
   "metadata": {},
   "outputs": [
    {
     "data": {
      "text/plain": [
       "49"
      ]
     },
     "execution_count": 7,
     "metadata": {},
     "output_type": "execute_result"
    }
   ],
   "source": [
    "# Exponents - when you raise a number to a power of another number\n",
    "7 ** 2"
   ]
  },
  {
   "cell_type": "code",
   "execution_count": 8,
   "id": "95ee91a2",
   "metadata": {},
   "outputs": [
    {
     "data": {
      "text/plain": [
       "143.23308068984727"
      ]
     },
     "execution_count": 8,
     "metadata": {},
     "output_type": "execute_result"
    }
   ],
   "source": [
    "7 **2.5512345678765432"
   ]
  },
  {
   "cell_type": "code",
   "execution_count": 9,
   "id": "bbd3b940",
   "metadata": {},
   "outputs": [],
   "source": [
    "# 7 ^ 2 - in some languages you use a caret for exponents"
   ]
  },
  {
   "cell_type": "markdown",
   "id": "293d4b9c",
   "metadata": {},
   "source": [
    "# 1.2 expressions"
   ]
  },
  {
   "cell_type": "markdown",
   "id": "418b9833",
   "metadata": {},
   "source": [
    "<b>expressions</b> - a collection of operators and numbers"
   ]
  },
  {
   "cell_type": "code",
   "execution_count": 10,
   "id": "fd9a71a3",
   "metadata": {},
   "outputs": [
    {
     "data": {
      "text/plain": [
       "42"
      ]
     },
     "execution_count": 10,
     "metadata": {},
     "output_type": "execute_result"
    }
   ],
   "source": [
    "6 + 6 ** 2"
   ]
  },
  {
   "cell_type": "code",
   "execution_count": 11,
   "id": "23997625",
   "metadata": {},
   "outputs": [
    {
     "data": {
      "text/plain": [
       "42"
      ]
     },
     "execution_count": 11,
     "metadata": {},
     "output_type": "execute_result"
    }
   ],
   "source": [
    "12 + 5 * 6"
   ]
  },
  {
   "cell_type": "code",
   "execution_count": 12,
   "id": "dc8da1e1",
   "metadata": {},
   "outputs": [
    {
     "data": {
      "text/plain": [
       "102"
      ]
     },
     "execution_count": 12,
     "metadata": {},
     "output_type": "execute_result"
    }
   ],
   "source": [
    "(12 + 5 ) * 6"
   ]
  },
  {
   "cell_type": "markdown",
   "id": "1794c99e",
   "metadata": {},
   "source": [
    "# 1.3 arithmetic functions"
   ]
  },
  {
   "cell_type": "code",
   "execution_count": 1,
   "id": "819a1c33",
   "metadata": {},
   "outputs": [
    {
     "data": {
      "text/plain": [
       "42"
      ]
     },
     "execution_count": 1,
     "metadata": {},
     "output_type": "execute_result"
    }
   ],
   "source": [
    "round(42.2) # round the number in the parenthesis"
   ]
  },
  {
   "cell_type": "code",
   "execution_count": 2,
   "id": "a1c7d6b8",
   "metadata": {},
   "outputs": [
    {
     "data": {
      "text/plain": [
       "42"
      ]
     },
     "execution_count": 2,
     "metadata": {},
     "output_type": "execute_result"
    }
   ],
   "source": [
    "round(41.6)"
   ]
  },
  {
   "cell_type": "code",
   "execution_count": 3,
   "id": "1930ca28",
   "metadata": {},
   "outputs": [
    {
     "data": {
      "text/plain": [
       "42"
      ]
     },
     "execution_count": 3,
     "metadata": {},
     "output_type": "execute_result"
    }
   ],
   "source": [
    "round(41.5)"
   ]
  },
  {
   "cell_type": "code",
   "execution_count": 4,
   "id": "1b7599e9",
   "metadata": {},
   "outputs": [
    {
     "data": {
      "text/plain": [
       "42"
      ]
     },
     "execution_count": 4,
     "metadata": {},
     "output_type": "execute_result"
    }
   ],
   "source": [
    "abs(42)"
   ]
  },
  {
   "cell_type": "code",
   "execution_count": 5,
   "id": "9800dc3e",
   "metadata": {},
   "outputs": [
    {
     "data": {
      "text/plain": [
       "42"
      ]
     },
     "execution_count": 5,
     "metadata": {},
     "output_type": "execute_result"
    }
   ],
   "source": [
    "abs(-42)"
   ]
  },
  {
   "cell_type": "code",
   "execution_count": 6,
   "id": "8fb182b2",
   "metadata": {},
   "outputs": [
    {
     "ename": "SyntaxError",
     "evalue": "invalid syntax (816474439.py, line 1)",
     "output_type": "error",
     "traceback": [
      "  \u001b[36mCell\u001b[39m\u001b[36m \u001b[39m\u001b[32mIn[6]\u001b[39m\u001b[32m, line 1\u001b[39m\n\u001b[31m    \u001b[39m\u001b[31mabs 42\u001b[39m\n        ^\n\u001b[31mSyntaxError\u001b[39m\u001b[31m:\u001b[39m invalid syntax\n"
     ]
    }
   ],
   "source": [
    "abs 42"
   ]
  },
  {
   "cell_type": "markdown",
   "id": "38f47d13",
   "metadata": {},
   "source": [
    "# 1.4 Strings"
   ]
  },
  {
   "cell_type": "code",
   "execution_count": 7,
   "id": "0f4daaa6",
   "metadata": {},
   "outputs": [
    {
     "data": {
      "text/plain": [
       "'hello'"
      ]
     },
     "execution_count": 7,
     "metadata": {},
     "output_type": "execute_result"
    }
   ],
   "source": [
    "'hello'"
   ]
  },
  {
   "cell_type": "code",
   "execution_count": 8,
   "id": "aed36c83",
   "metadata": {},
   "outputs": [
    {
     "ename": "SyntaxError",
     "evalue": "unterminated string literal (detected at line 1) (3997259606.py, line 1)",
     "output_type": "error",
     "traceback": [
      "  \u001b[36mCell\u001b[39m\u001b[36m \u001b[39m\u001b[32mIn[8]\u001b[39m\u001b[32m, line 1\u001b[39m\n\u001b[31m    \u001b[39m\u001b[31m\"hello World'\u001b[39m\n    ^\n\u001b[31mSyntaxError\u001b[39m\u001b[31m:\u001b[39m unterminated string literal (detected at line 1)\n"
     ]
    }
   ],
   "source": [
    "\"hello World'"
   ]
  },
  {
   "cell_type": "code",
   "execution_count": 9,
   "id": "df224257",
   "metadata": {},
   "outputs": [
    {
     "data": {
      "text/plain": [
       "\"it's a small world\""
      ]
     },
     "execution_count": 9,
     "metadata": {},
     "output_type": "execute_result"
    }
   ],
   "source": [
    "\"it's a small world\""
   ]
  },
  {
   "cell_type": "code",
   "execution_count": 11,
   "id": "320c99e7",
   "metadata": {},
   "outputs": [
    {
     "data": {
      "text/plain": [
       "\"it's a small world\""
      ]
     },
     "execution_count": 11,
     "metadata": {},
     "output_type": "execute_result"
    }
   ],
   "source": [
    "'it\\'s a small world'"
   ]
  },
  {
   "cell_type": "markdown",
   "id": "650133a5",
   "metadata": {},
   "source": [
    "### + operator with strings:\n",
    "\n",
    "<b>Concatination</b> - taking multiple stings and putting them together"
   ]
  },
  {
   "cell_type": "code",
   "execution_count": 13,
   "id": "9a218573",
   "metadata": {},
   "outputs": [
    {
     "data": {
      "text/plain": [
       "\"well, it's a small world\""
      ]
     },
     "execution_count": 13,
     "metadata": {},
     "output_type": "execute_result"
    }
   ],
   "source": [
    "'well, ' + \"it's a small \" + 'world'"
   ]
  },
  {
   "cell_type": "markdown",
   "id": "aa7f2694",
   "metadata": {},
   "source": [
    "### * operator with strings\n",
    "\n",
    "It makes muliple copies of a string and concatinates them together"
   ]
  },
  {
   "cell_type": "code",
   "execution_count": 15,
   "id": "2827dde1",
   "metadata": {},
   "outputs": [
    {
     "data": {
      "text/plain": [
       "'Spam, Spam, Spam, Spam, '"
      ]
     },
     "execution_count": 15,
     "metadata": {},
     "output_type": "execute_result"
    }
   ],
   "source": [
    "'Spam, ' * 4"
   ]
  },
  {
   "cell_type": "markdown",
   "id": "4e3a4925",
   "metadata": {},
   "source": [
    "# String functions"
   ]
  },
  {
   "cell_type": "code",
   "execution_count": 16,
   "id": "4525f3bf",
   "metadata": {},
   "outputs": [
    {
     "data": {
      "text/plain": [
       "4"
      ]
     },
     "execution_count": 16,
     "metadata": {},
     "output_type": "execute_result"
    }
   ],
   "source": [
    "len('spam')"
   ]
  },
  {
   "cell_type": "code",
   "execution_count": 1,
   "id": "d999d83f",
   "metadata": {},
   "outputs": [
    {
     "data": {
      "text/plain": [
       "'Hello'"
      ]
     },
     "execution_count": 1,
     "metadata": {},
     "output_type": "execute_result"
    }
   ],
   "source": [
    "'Hello'"
   ]
  },
  {
   "cell_type": "markdown",
   "id": "818a5bde",
   "metadata": {},
   "source": [
    "## 1.5 Values and Types\n",
    "\n",
    "Multiple types of data\n",
    "* intergers\n",
    "* floats\n",
    "* strings\n",
    "* boolean\n",
    "* NULL\n",
    "\n",
    "<b>Type</b> - What kind of value is the data that we are using. Values can belong to a type of dats.\n"
   ]
  },
  {
   "cell_type": "code",
   "execution_count": 4,
   "id": "d16bf70d",
   "metadata": {},
   "outputs": [
    {
     "data": {
      "text/plain": [
       "float"
      ]
     },
     "execution_count": 4,
     "metadata": {},
     "output_type": "execute_result"
    }
   ],
   "source": [
    "# Python type function\n",
    "type(2.4)"
   ]
  },
  {
   "cell_type": "code",
   "execution_count": 5,
   "id": "9ec4034d",
   "metadata": {},
   "outputs": [
    {
     "data": {
      "text/plain": [
       "int"
      ]
     },
     "execution_count": 5,
     "metadata": {},
     "output_type": "execute_result"
    }
   ],
   "source": [
    "type(2)"
   ]
  },
  {
   "cell_type": "code",
   "execution_count": 6,
   "id": "54c4ef64",
   "metadata": {},
   "outputs": [
    {
     "data": {
      "text/plain": [
       "bool"
      ]
     },
     "execution_count": 6,
     "metadata": {},
     "output_type": "execute_result"
    }
   ],
   "source": [
    "type(True)"
   ]
  },
  {
   "cell_type": "code",
   "execution_count": 7,
   "id": "14ca6e77",
   "metadata": {},
   "outputs": [
    {
     "data": {
      "text/plain": [
       "bool"
      ]
     },
     "execution_count": 7,
     "metadata": {},
     "output_type": "execute_result"
    }
   ],
   "source": [
    "type(False)"
   ]
  },
  {
   "cell_type": "code",
   "execution_count": 8,
   "id": "d46c38c5",
   "metadata": {},
   "outputs": [
    {
     "data": {
      "text/plain": [
       "str"
      ]
     },
     "execution_count": 8,
     "metadata": {},
     "output_type": "execute_result"
    }
   ],
   "source": [
    "type(\"Hello\")"
   ]
  },
  {
   "cell_type": "code",
   "execution_count": null,
   "id": "4777a445",
   "metadata": {},
   "outputs": [],
   "source": []
  }
 ],
 "metadata": {
  "kernelspec": {
   "display_name": "Python 3",
   "language": "python",
   "name": "python3"
  },
  "language_info": {
   "codemirror_mode": {
    "name": "ipython",
    "version": 3
   },
   "file_extension": ".py",
   "mimetype": "text/x-python",
   "name": "python",
   "nbconvert_exporter": "python",
   "pygments_lexer": "ipython3",
   "version": "3.9.6"
  }
 },
 "nbformat": 4,
 "nbformat_minor": 5
}
